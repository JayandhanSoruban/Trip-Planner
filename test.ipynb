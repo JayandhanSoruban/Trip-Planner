{
 "cells": [
  {
   "cell_type": "code",
   "execution_count": 3,
   "id": "5721ff57",
   "metadata": {},
   "outputs": [
    {
     "name": "stdout",
     "output_type": "stream",
     "text": [
      "Installed kernelspec trip in C:\\Users\\jayan\\AppData\\Roaming\\jupyter\\kernels\\trip\n"
     ]
    }
   ],
   "source": [
    "!python -m ipykernel install --user --name=trip --display-name \"Python (trip)\"\n"
   ]
  },
  {
   "cell_type": "code",
   "execution_count": null,
   "id": "7e257aeb",
   "metadata": {},
   "outputs": [],
   "source": []
  }
 ],
 "metadata": {
  "kernelspec": {
   "display_name": "trip",
   "language": "python",
   "name": "python3"
  },
  "language_info": {
   "codemirror_mode": {
    "name": "ipython",
    "version": 3
   },
   "file_extension": ".py",
   "mimetype": "text/x-python",
   "name": "python",
   "nbconvert_exporter": "python",
   "pygments_lexer": "ipython3",
   "version": "3.12.7"
  }
 },
 "nbformat": 4,
 "nbformat_minor": 5
}
